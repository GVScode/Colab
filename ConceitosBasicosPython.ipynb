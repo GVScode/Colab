{
  "nbformat": 4,
  "nbformat_minor": 0,
  "metadata": {
    "colab": {
      "provenance": [],
      "authorship_tag": "ABX9TyNWZPTHgzT9DQ5LEOQooPXa",
      "include_colab_link": true
    },
    "kernelspec": {
      "name": "python3",
      "display_name": "Python 3"
    },
    "language_info": {
      "name": "python"
    }
  },
  "cells": [
    {
      "cell_type": "markdown",
      "metadata": {
        "id": "view-in-github",
        "colab_type": "text"
      },
      "source": [
        "<a href=\"https://colab.research.google.com/github/GVScode/Colab/blob/main/ConceitosBasicosPython.ipynb\" target=\"_parent\"><img src=\"https://colab.research.google.com/assets/colab-badge.svg\" alt=\"Open In Colab\"/></a>"
      ]
    },
    {
      "cell_type": "code",
      "execution_count": 5,
      "metadata": {
        "id": "DN0s9TplxKWx",
        "colab": {
          "base_uri": "https://localhost:8080/"
        },
        "outputId": "a3c95ba5-6567-4042-9d19-6594bb45f16f"
      },
      "outputs": [
        {
          "output_type": "stream",
          "name": "stdout",
          "text": [
            "Soma: 4.99\n",
            "Subtração:  1.010000\n",
            "Divisão:  1.507538\n",
            "multiplicação:  5.970000\n",
            "Potência:  8.901666\n",
            "And: False\n",
            "Or: True\n",
            "Not: False\n",
            "True\n",
            "False\n",
            "True\n",
            "Lorem Ipsum é simplesmente um texto fictício.\n",
            "> primeiros caracteres: Lorem\n",
            "> últimos caracteres: ício.\n",
            "> tamanho da string: 45\n",
            "> Termo existente: True\n",
            "> concatenando strings: teste 123@Lorem Ipsum é simplesmente um texto fictício.\n",
            "> separando strings: ['teste 123']\n",
            "> convertendo para maiúsculo: LOREM IPSUM É SIMPLESMENTE UM TEXTO FICTÍCIO.\n",
            "> convertendo para minúsculo: lorem ipsum é simplesmente um texto fictício.\n",
            "> substituição numa string: teste 321\n",
            "> removendo espaços em branco na string: teste 123\n",
            "Sequencia\n",
            "[1, 2, 3, 4, 5]\n",
            "['a', 7, 9.62]\n",
            "concatenando listas: [1, 2, 3, 4, 5, 'a', 7, 9.62]\n",
            "True\n",
            "tamanho da lista:  8\n",
            "1\n",
            "{'a': 1, 'b': 2, 'c': 10}\n",
            "False\n",
            "True\n",
            "dict_keys(['a', 'b', 'c'])\n",
            "dict_values([1, 2, 10])\n",
            "dict_items([('a', 1), ('b', 2), ('c', 10)])\n",
            "<class 'float'>\n",
            "Valor atual de x é:  5\n",
            "Valor atual de x é:  15\n",
            "Valor atual de x é:  8\n",
            "Valor atual de x é:  16\n",
            "Valor atual de x é:  8.0\n",
            "Digite seu nopme: \n",
            "guilherme\n",
            "Olá, prazer em conhece-lo guilherme\n",
            "\n"
          ]
        }
      ],
      "source": [
        "#Dados numéricos:\n",
        "#=======================================\n",
        "x=3\n",
        "y=1.99\n",
        "print(\"Soma: %.2f\" %(x+y))   #a observação '2f' identifica que queremos que informe apenas duas casas decimais na soma\n",
        "print(\"Subtração: % f\" %(x-y))\n",
        "print(\"Divisão: % f\" %(x/y))\n",
        "print(\"multiplicação: % f\" %(x*y))\n",
        "print(\"Potência: % f\" %(x**y))\n",
        "#=======================================\n",
        "\n",
        "#Dados lógicos:\n",
        "#=======================================\n",
        "a=True\n",
        "b=False\n",
        "print(\"And: %s\" %(a and b))\n",
        "print(\"Or: %s\" %(a or b))\n",
        "print(\"Not: %s\" %(not a))\n",
        "\n",
        "print(5>=5)\n",
        "print(10<6)\n",
        "print(2*5==10)\n",
        "#=======================================\n",
        "\n",
        "\n",
        "#tipo de dado textual\n",
        "#=============================================================================\n",
        "string = \"\"\"Lorem Ipsum é simplesmente um texto fictício.\"\"\"\n",
        "print(string)\n",
        "string_auxiliar = 'teste 123'\n",
        "\n",
        "#primeiros 5 caracteres:\n",
        "print(\"> primeiros caracteres: \" + string[:5])\n",
        "\n",
        "#últimos 5 caracteres:\n",
        "print(\"> últimos caracteres: \" + string[-5:])\n",
        "\n",
        "#tamanho da string:\n",
        "print(\"> tamanho da string: \" + str(len(string)))\n",
        "\n",
        "#buscar um termo no texto:\n",
        "print(\"> Termo existente: \" + str(\"Lorem\" in string))\n",
        "\n",
        "#concatenando strings:\n",
        "print(\"> concatenando strings: \" + string_auxiliar + \"@\" + string)\n",
        "\n",
        "#separando strings:\n",
        "print(\"> separando strings: \" + str(string_auxiliar.split('@')))\n",
        "\n",
        "#convertendo para maiúsculo:\n",
        "print(\"> convertendo para maiúsculo: \" + string.upper())\n",
        "\n",
        "#convertendo para minúsculo:\n",
        "print(\"> convertendo para minúsculo: \" + string.lower())\n",
        "\n",
        "#substituição numa string:\n",
        "print(\"> substituição numa string: \" + string_auxiliar.replace('123', '321'))\n",
        "\n",
        "#removendo espaços em branco na string\n",
        "print(\"> removendo espaços em branco na string: \" + string_auxiliar.strip())\n",
        "\n",
        "# Notação de listas: []\n",
        "sequencia = [1, 2, 3, 4, 5]\n",
        "sequencia_auxiliar = [\"a\", 7, 9.62]\n",
        "print(\"Sequencia\")  #importante lembrar que a identificação \"\" cria uma string com nome de sequencia\n",
        "print(sequencia)    #quando colocada sem as aspas é selecionado a função que realmente nos traz a sequencia de números definida anteriormente\n",
        "print(sequencia_auxiliar)\n",
        "\n",
        "#concatenando listas:\n",
        "print(\"concatenando listas: \"+ str(sequencia + sequencia_auxiliar))\n",
        "\n",
        "#buscando elemento na lista\n",
        "print(1 in sequencia)\n",
        "\n",
        "#tamanho da lista\n",
        "print(\"tamanho da lista: \",len(sequencia + sequencia_auxiliar))\n",
        "\n",
        "#Acessando um elemento da lista pela posição\n",
        "print(sequencia[0])\n",
        "\n",
        "\n",
        "#=============================================================================\n",
        "\n",
        "\n",
        "#Notação de dicionários: {}\n",
        "\n",
        "dePara = {'a': 1, 'b': 2, 'c': 10 }\n",
        "print(dePara)\n",
        "\n",
        "#=============================================================================\n",
        "\n",
        "#Verificação se a letra F existe no dicionário:\n",
        "print('F' in dePara)\n",
        "\n",
        "#verificando se a letra a existe no dicionário:\n",
        "print('a' in dePara)\n",
        "\n",
        "#acessando as chaves do dicionário:\n",
        "print(dePara.keys())\n",
        "\n",
        "#acessando os valores do dicionário:\n",
        "print(dePara.values())\n",
        "\n",
        "#acessando os itens do dicionário:\n",
        "print(dePara.items())\n",
        "\n",
        "\n",
        "#=============================================================================\n",
        "\n",
        "# Conversão de tipos\n",
        "\n",
        "int(3.14) # converte um numero quebrado para inteiro trazendo o resultado 3\n",
        "float(3) # converte um inteiro para um numero quebrado trazendo o resultado 3.0\n",
        "str(3.14) # converte um numero quebrado para string trazendo o resultado '3.14'\n",
        "\n",
        "#=============================================================================\n",
        "\n",
        "#Verificando o tipo de dado\n",
        "x=3.14\n",
        "print(type(x))\n",
        "\n",
        "#=============================================================================\n",
        "#Atribuindo valor a uma variavel:\n",
        "x=5\n",
        "print(\"Valor atual de x é: \", x)\n",
        "\n",
        "#Incrementando uma variavel:\n",
        "x+=10\n",
        "print(\"Valor atual de x é: \", x)\n",
        "\n",
        "#Decrementando uma variavel:\n",
        "x-=7\n",
        "print(\"Valor atual de x é: \", x)\n",
        "\n",
        "#Multiplicando uma variavel:\n",
        "x*=2\n",
        "print(\"Valor atual de x é: \", x)\n",
        "\n",
        "#Dividindo uma variavel:\n",
        "x/=2\n",
        "print(\"Valor atual de x é: \", x)\n",
        "\n",
        "\n",
        "#===============================================================================\n",
        "#Exemplo de entrada de dados:\n",
        "print(\"Digite seu nopme: \")\n",
        "nome = input()\n",
        "print(\"Olá, prazer em conhece-lo \" + nome)\n",
        "#===============================================================================\n",
        "poema = \"\"\"De tudo, ao meu amor serei atento\n",
        "Antes, e com tal zelo, e sempre, e tanto\n",
        "Que mesmo em face do maior encanto\n",
        "Dele se encante mais meu pensamento.Quero vivê-lo em cada vão momento\n",
        "E em louvor hei de espalhar meu canto\n",
        "E rir meu riso e derramar meu pranto\n",
        "Ao seu pesar ou seu contentamento.E assim, quando mais tarde me procure\n",
        "Quem sabe a morte, angústia de quem vive\n",
        "Quem sabe a solidão, fim de quem amaEu possa me dizer do amor (que tive):\n",
        "Que não seja imortal, posto que é chama\n",
        "Mas que seja infinito enquanto dure.\"\"\"\n",
        "with open(\"poema.txt\", \"wt\") as f:\n",
        "    f.write(poema)\n",
        "\n",
        "    with open(\"poema.txt\") as f:\n",
        "        conteudo_arquivo = f.read()\n",
        "    print(conteudo_arquivo)"
      ]
    },
    {
      "cell_type": "code",
      "source": [
        "#Encontra a palavra no arquivo poema informado anmteriormente\n",
        "def verifica_existencia_palavra(palavra):\n",
        "    with open(\"poema.txt\") as f:\n",
        "        conteudo_arquivo = f.readlines()\n",
        "\n",
        "        num_linha =0\n",
        "        for linha in conteudo_arquivo:\n",
        "            if palavra in linha:\n",
        "             print(\"A palavra: {0}, foi encontrada na linha {1}\".format(palavra, num_linha))\n",
        "            num_linha +=1\n",
        "\n",
        "verifica_existencia_palavra(\"seja\")"
      ],
      "metadata": {
        "colab": {
          "base_uri": "https://localhost:8080/"
        },
        "id": "QJNouADTi6FS",
        "outputId": "685d9976-d2a3-479d-9b32-ae9a94790bbc"
      },
      "execution_count": 21,
      "outputs": [
        {
          "output_type": "stream",
          "name": "stdout",
          "text": [
            "A palavra: seja, foi encontrada na linha 9\n",
            "A palavra: seja, foi encontrada na linha 10\n"
          ]
        }
      ]
    },
    {
      "cell_type": "code",
      "source": [
        "# Exemplo de utilização do pip\n",
        "\n",
        "!pip install camelcase"
      ],
      "metadata": {
        "colab": {
          "base_uri": "https://localhost:8080/"
        },
        "id": "qxwxwXXllKMD",
        "outputId": "e9494988-b695-459c-b383-51cded56b211"
      },
      "execution_count": 9,
      "outputs": [
        {
          "output_type": "stream",
          "name": "stdout",
          "text": [
            "Collecting camelcase\n",
            "  Downloading camelcase-0.2.tar.gz (1.3 kB)\n",
            "  Preparing metadata (setup.py) ... \u001b[?25l\u001b[?25hdone\n",
            "Building wheels for collected packages: camelcase\n",
            "  Building wheel for camelcase (setup.py) ... \u001b[?25l\u001b[?25hdone\n",
            "  Created wheel for camelcase: filename=camelcase-0.2-py3-none-any.whl size=1773 sha256=307693e747b7d86b2833f53bda72148e19dca4f9c3dde4bd30873d4c7d708af6\n",
            "  Stored in directory: /root/.cache/pip/wheels/89/69/2b/bb16b6766a74942bfbd1e0db55e3c0f3d80c3463ad6b4dc4d4\n",
            "Successfully built camelcase\n",
            "Installing collected packages: camelcase\n",
            "Successfully installed camelcase-0.2\n"
          ]
        }
      ]
    },
    {
      "cell_type": "code",
      "source": [
        "#utilizando a função hump da biblioteca camelcase\n",
        "# pra colocar as letras em maiúsculas em um texto full minusculo\n",
        "\n",
        "import camelcase\n",
        "\n",
        "teste = \"empodera tech\"\n",
        "\n",
        "c = camelcase.CamelCase()\n",
        "print(c.hump(teste))\n",
        "\n",
        "#====================================================================\n",
        "#Importando a biblioteca math\n",
        "from math import sqrt\n",
        "\n",
        "x = 4\n",
        "\n",
        "print(x**0.5)"
      ],
      "metadata": {
        "colab": {
          "base_uri": "https://localhost:8080/"
        },
        "id": "mjjfOGqRmbaO",
        "outputId": "a61bd39f-49ab-47f5-907d-b295de18add1"
      },
      "execution_count": 15,
      "outputs": [
        {
          "output_type": "stream",
          "name": "stdout",
          "text": [
            "Empodera Tech\n",
            "2.0\n"
          ]
        }
      ]
    },
    {
      "cell_type": "code",
      "source": [
        "#"
      ],
      "metadata": {
        "id": "uKN6JHouo5Nx"
      },
      "execution_count": null,
      "outputs": []
    }
  ]
}